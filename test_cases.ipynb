{
 "cells": [
  {
   "cell_type": "code",
   "execution_count": null,
   "id": "258ddc67",
   "metadata": {},
   "outputs": [
    {
     "name": "stderr",
     "output_type": "stream",
     "text": [
      "E\n",
      "======================================================================\n",
      "ERROR: C:\\Users\\TOSHIBA\\AppData\\Roaming\\jupyter\\runtime\\kernel-c0ef9298-5140-4f30-a9a5-6775ddbcc660 (unittest.loader._FailedTest.C:\\Users\\TOSHIBA\\AppData\\Roaming\\jupyter\\runtime\\kernel-c0ef9298-5140-4f30-a9a5-6775ddbcc660)\n",
      "----------------------------------------------------------------------\n",
      "AttributeError: module '__main__' has no attribute 'C:\\Users\\TOSHIBA\\AppData\\Roaming\\jupyter\\runtime\\kernel-c0ef9298-5140-4f30-a9a5-6775ddbcc660'\n",
      "\n",
      "----------------------------------------------------------------------\n",
      "Ran 1 test in 0.001s\n",
      "\n",
      "FAILED (errors=1)\n"
     ]
    },
    {
     "ename": "SystemExit",
     "evalue": "True",
     "output_type": "error",
     "traceback": [
      "An exception has occurred, use %tb to see the full traceback.\n",
      "\u001b[1;31mSystemExit\u001b[0m\u001b[1;31m:\u001b[0m True\n"
     ]
    },
    {
     "name": "stderr",
     "output_type": "stream",
     "text": [
      "E:\\anaconda3\\Lib\\site-packages\\IPython\\core\\interactiveshell.py:3513: UserWarning: To exit: use 'exit', 'quit', or Ctrl-D.\n",
      "  warn(\"To exit: use 'exit', 'quit', or Ctrl-D.\", stacklevel=1)\n"
     ]
    }
   ],
   "source": [
    "import unittest\n",
    "from io import StringIO\n",
    "import sys\n",
    "\n",
    "class TestLibrary(unittest.TestCase):\n",
    "    def setUp(self):\n",
    "        self.library = Library()\n",
    "        self.output = StringIO()\n",
    "        sys.stdout = self.output\n",
    "\n",
    "    def tearDown(self):\n",
    "        sys.stdout = sys.__stdout__\n",
    "\n",
    "    def test_add_book(self):\n",
    "        self.library.add_book(\"Test Book\")\n",
    "        self.assertIn(\"Test Book\", self.library.books)\n",
    "        self.assertTrue(self.library.books[\"Test Book\"])\n",
    "\n",
    "\n",
    "\n",
    "    def test_borrow_book(self):\n",
    "        self.library.add_book(\"Test Book\")\n",
    "        self.library.borrow_book(\"Test Book\")\n",
    "        self.assertFalse(self.library.books[\"Test Book\"])\n",
    "        self.assertEqual(self.output.getvalue().strip(), \"You have borrowed 'Test Book'.\")\n",
    "\n",
    "    \n",
    "    def test_return_book(self):\n",
    "        self.library.add_book(\"Test Book\")\n",
    "        self.library.borrow_book(\"Test Book\")\n",
    "        self.library.return_book(\"Test Book\")\n",
    "        self.assertTrue(self.library.books[\"Test Book\"])\n",
    "        self.assertEqual(self.output.getvalue().strip(), \"You have borrowed 'Test Book'.\\nThank you for returning 'Test Book'.\")\n",
    "\n",
    "\n",
    "\n",
    "if __name__ == \"__main__\":\n",
    "    unittest.main()\n"
   ]
  },
  {
   "cell_type": "code",
   "execution_count": null,
   "id": "6cd8bd38",
   "metadata": {},
   "outputs": [],
   "source": []
  }
 ],
 "metadata": {
  "kernelspec": {
   "display_name": "Python 3 (ipykernel)",
   "language": "python",
   "name": "python3"
  },
  "language_info": {
   "codemirror_mode": {
    "name": "ipython",
    "version": 3
   },
   "file_extension": ".py",
   "mimetype": "text/x-python",
   "name": "python",
   "nbconvert_exporter": "python",
   "pygments_lexer": "ipython3",
   "version": "3.11.4"
  }
 },
 "nbformat": 4,
 "nbformat_minor": 5
}
